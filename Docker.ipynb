{
 "cells": [
  {
   "cell_type": "markdown",
   "metadata": {},
   "source": [
    "# 도커란?\n",
    "\n",
    "<img src=\"docker-works.png\" style=\"width: 400px\">\n",
    "\n",
    "도커는 컨테이너 기반의 오픈소스 가상화 플랫폼입니다.\n",
    "\n",
    "컨테이너라 하면 배에 실는 네모난 화물 수송용 박스를 생각할 수 있는데 각각의 컨테이너 안에는 옷, 신발, 전자제품, 술, 과일등 다양한 화물을 넣을 수 있고 규격화되어 컨테이너선이나 트레일러등 다양한 운송수단으로 쉽게 옮길 수 있습니다.\n",
    "\n",
    "서버에서 이야기하는 컨테이너도 이와 비슷한데 다양한 프로그램, 실행환경을 컨테이너로 추상화하고 동일한 인터페이스를 제공하여 프로그램의 배포 및 관리를 단순하게 해줍니다. 백엔드 프로그램, 데이터베이스 서버, 메시지 큐등 어떤 프로그램도 컨테이너로 추상화할 수 있고 조립PC, AWS, Azure, Google cloud등 어디에서든 실행할 수 있습니다.\n",
    "\n",
    "<img src=\"vm-vs-docker.png\" style=\"width: 800px\">\n",
    "\n",
    "# 컨테이너\n",
    "\n",
    "도커 컨테이너는 이미지가 실행된 상태를 뜻하며 격리된 공간에서 프로세스가 동작하는 기술입니다.  \n",
    "이미지 하나로는 수백개의 컨테이너를 생성할 수 있다. 마치 이 관계는 실행파일과 프로세스의 관계 같은 것이다.\n",
    "\n",
    "\n",
    "# 이미지\n",
    "\n",
    "<img src=\"docker-image.png\" style=\"width: 800px\">\n",
    "\n",
    "이미지는 컨테이너 실행에 필요한 파일과 설정값등을 포함하고 있는 것으로 상태값을 가지지 않고 변하지 않습니다(Immutable). 컨테이너는 이미지를 실행한 상태라고 볼 수 있고 추가되거나 변하는 값은 컨테이너에 저장됩니다. 같은 이미지에서 여러개의 컨테이너를 생성할 수 있고 컨테이너의 상태가 바뀌거나 컨테이너가 삭제되더라도 이미지는 변하지 않고 그대로 남아있습니다.\n",
    "\n",
    "말그대로 이미지는 컨테이너를 실행하기 위한 모오오오오든 정보를 가지고 있기 때문에 더 이상 의존성 파일을 컴파일하고 이것저것 설치할 필요가 없습니다. 이제 새로운 서버가 추가되면 미리 만들어 놓은 이미지를 다운받고 컨테이너를 생성만 하면 됩니다. 한 서버에 여러개의 컨테이너를 실행할 수 있고, 수십, 수백, 수천대의 서버도 문제없습니다."
   ]
  },
  {
   "cell_type": "markdown",
   "metadata": {},
   "source": [
    "# 도커 설치\n",
    "\n",
    "win10 이하 mac yosemiti 이하 -> docker toolbox  \n",
    "win10 이상 mac yosemiti 이상 -> docker 설치\n",
    "\n",
    ">https://www.docker.com/community-edition#/download\n",
    "\n",
    "CMD실행 후 Docker 설치 확인\n",
    "\n",
    "``` >$ docker run hello-world ```\n",
    "\n",
    "<img src=\"run-hello.png\" style=\"width: 100%;\">"
   ]
  },
  {
   "cell_type": "markdown",
   "metadata": {},
   "source": [
    "# 이미지 받아오기(PULL from DockerHub)\n",
    "\n",
    "```>$ docker pull continuumio/miniconda3```  \n",
    "<img src=\"docker-miniconda.png\" style=\"width:800px;\">  \n",
    "<img src=\"pull-miniconda.png\" style=\"width: 800px;\">"
   ]
  },
  {
   "cell_type": "markdown",
   "metadata": {},
   "source": [
    "# 이미지 실행해서 컨테이너 띄우기(RUN)\n",
    "\n",
    "도커를 실행하는 명령어는 다음과 같습니다.\n",
    "\n",
    ">$ docker run [OPTIONS] IMAGE[:TAG|@DIGEST] [COMMAND] [ARG...]  \n",
    "\n",
    "run명령어를 사용하면 사용할 이미지가 저장되어 있는지 확인하고 없다면 다운로드(pull)를 한 후 컨테이너를 생성(create)하고 시작(start) 합니다.  \n",
    "다음은 자주 사용하는 옵션들입니다.\n",
    "\n",
    "옵션|설명\n",
    "---- | ---- |\n",
    "-d|detached mode 흔히 말하는 백그라운드 모드|\n",
    "-p|호스트와 컨테이너의 포트를 연결 (포워딩)|\n",
    "-v|호스트와 컨테이너의 디렉토리를 연결 (마운트)|\n",
    "-e|컨테이너 내에서 사용할 환경변수 설정|\n",
    "–name|컨테이너 이름 설정|\n",
    "–rm|프로세스 종료시 컨테이너 자동 제거|\n",
    "-it|-i와 -t를 동시에 사용한 것으로 터미널 입력을 위한 옵션|\n",
    "–link|컨테이너 연결 [컨테이너명:별칭]|\n",
    "\n",
    "*출처: https://subicura.com/2017/01/19/docker-guide-for-beginners-2.html#%EC%BB%A8%ED%85%8C%EC%9D%B4%EB%84%88-%EC%8B%A4%ED%96%89%ED%95%98%EA%B8%B0*  \n",
    "\n",
    "```>$ docker run -i -t continuumio/miniconda3 /bin/bash```  \n",
    "\n",
    "<img src=\"run-miniconda.png\" style=\"width: 800px;\">  \n",
    "<img src=\"pip901.png\" style=\"width: 800px;\">\n"
   ]
  },
  {
   "cell_type": "markdown",
   "metadata": {},
   "source": [
    "# 컨테이너를 이미지로 저장하기(commit)\n",
    "\n",
    "컨테이너 ID 조회  \n",
    "\n",
    "```>$ docker ps -a   #실행한 컨테이너 조회``` \n",
    "<img src=\"ps-a.png\" style=\"width: 800px\">  \n",
    "  \n",
    "조회한 컨테이너ID로 이미지 만들기  \n",
    "\n",
    "> docker commit <컨테이너ID> <리파지토리명>:<태그명>  \n",
    "\n",
    "```>$ docker commit c9a7bfec285a pip901:init```  \n",
    "    \n",
    "    \n",
    "생성된 이미지 리스트 조회  \n",
    "\n",
    "```>$ docker images```  \n",
    "<img src=\"docker-commit.png\" style=\"width: 800px\">  \n",
    "\n",
    "\n",
    "생성된 이미지 삭제\n",
    "\n",
    "```>$ docker rmi <이미지ID>```   \n",
    "<img src=\"docker-rmi.png\" style=\"width: 800px\">  \n"
   ]
  },
  {
   "cell_type": "markdown",
   "metadata": {},
   "source": [
    "# 만든 이미지 실행 -> 컨테이너 띄우기(RUN)\n",
    "  \n",
    "```>$ docker run -i -t 901:init /bin/bash```  \n",
    "\n",
    "901 컨테이너에 pip을 902 버전으로 업그레이드 해도 이미지에는 반영되지 않음  \n",
    "\n",
    "<img src=\"run-901-install-902.png\" style=\"width: 800px\">  \n",
    "<img src=\"run-901-install-902-but.png\" style=\"width: 800px\">  \n",
    "\n",
    "901 컨테이너에 pip -> 902로 업그레이드 후 이미지로 저장하여야 함.  \n",
    "즉 컨테이너에서 뭔 삽질을 해도 이미지에는 반영되지 않는다.  \n",
    "반드시 이미지로 저장해야 상태가 저장됨.  \n",
    "\n",
    "<img src=\"docker-commit-902.png\" style=\"width: 800px\"> \n"
   ]
  },
  {
   "cell_type": "markdown",
   "metadata": {},
   "source": [
    "# 로컬폴더 마운트해서 컨테이너 띄우기\n",
    "\n",
    ">$ docker run -i -t -v <로컬컴터폴더>:<컨테이너폴더> <이미지리파이토리명>:<태그명> /bin/bash  \n",
    "\n",
    "```>$ docker run -i -t -v /C/test:/test 902:init /bin/bash```  \n",
    "\n",
    "<img src=\"docker-mount.png\" style=\"width: 100%\"> "
   ]
  },
  {
   "cell_type": "markdown",
   "metadata": {},
   "source": [
    "# 컨테이너 포트 연결해서 주피터 노트북 실행\n",
    "\n",
    "```>$ docker run -it -p 8888:8888 -v /Users/doomoolmori/test:/test 902:init /bin/bash ```  \n",
    "\n",
    "-i, --interactive=false: 표준 입력(stdin)을 활성화하며 컨테이너와 연결(attach)되어 있지 않더라도 표준 입력을 유지합니다. \n",
    "    보통 이 옵션을 사용하여 Bash에 명령을 입력합니다. \n",
    "-t, --tty=false: TTY 모드(pseudo-TTY)를 사용합니다. Bash를 사용하려면 이 옵션을 설정해야 합니다. \n",
    "    이 옵션을 설정하지 않으면 명령을 입력할 수는 있지만 셸이 표시되지 않습니다.\n",
    "-P, --publish-all=false: 호스트에 연결된 컨테이너의 모든 포트를 외부에 노출합니다.  \n",
    "-p, --publish=[]: 호스트에 연결된 컨테이너의 특정 포트를 외부에 노출합니다. 보통 웹 서버의 포트를 노출할 때 주로 사용합니다.  \n",
    " \n",
    "\n",
    "[출처: http://pyrasis.com/book/DockerForTheReallyImpatient/Chapter20/28]\n",
    "\n",
    "```>bash$ jupyter notebook --ip=0.0.0.0 --port=8888 --no-browser --allow-root ```  \n",
    "<img src=\"go-jupytor.png\" style=\"width: 800px\">  \n",
    "<img src=\"jupyter-ok.png\" style=\"width: 800px\"> \n",
    "\n",
    "\n",
    "\n"
   ]
  },
  {
   "cell_type": "markdown",
   "metadata": {},
   "source": [
    "# 도커 이미지 도커허브에 배포\n",
    "\n",
    "도커허브 사이트 가입 후 리파지토리 만들기\n",
    "\n",
    "<img src=\"dockerhub.png\" style=\"width: 800px\">  \n",
    "  \n",
    "shell창에 docker login으로 로그인  \n",
    "\n",
    "```>$ docker login```\n",
    "\n",
    "docker push 명령어로 자기 dockekhub repository에 올리기\n",
    "> docker push <로컬이미지리파지토리명>:<태그명>  \n",
    "\n",
    "이때 로컬이미지 <리파지토리명>은 <도커허브아이디>/<도커허브리파지토리명>과 같아야 한다.  \n",
    "\n",
    "\n",
    "\n",
    "<img src=\"dockerhub-rename.png\" style=\"width: 800px\">  \n",
    "  \n",
    "  \n",
    "\n",
    "\n",
    "\n",
    "<img src=\"dockerhub-push.png\" style=\"width: 800px\">  \n",
    "<img src=\"dockerhub-finished.png\" style=\"width: 800px\">  "
   ]
  },
  {
   "cell_type": "markdown",
   "metadata": {},
   "source": [
    "# 끝."
   ]
  },
  {
   "cell_type": "code",
   "execution_count": null,
   "metadata": {},
   "outputs": [],
   "source": []
  }
 ],
 "metadata": {
  "kernelspec": {
   "display_name": "Python 3",
   "language": "python",
   "name": "python3"
  },
  "language_info": {
   "codemirror_mode": {
    "name": "ipython",
    "version": 3
   },
   "file_extension": ".py",
   "mimetype": "text/x-python",
   "name": "python",
   "nbconvert_exporter": "python",
   "pygments_lexer": "ipython3",
   "version": "3.6.3"
  }
 },
 "nbformat": 4,
 "nbformat_minor": 2
}
